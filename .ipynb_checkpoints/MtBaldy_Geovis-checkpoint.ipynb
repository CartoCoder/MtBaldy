{
 "cells": [
  {
   "cell_type": "markdown",
   "metadata": {},
   "source": [
    "![title](https://igws.indiana.edu/images/IGWS_Logo.svg)\n",
    "# Mt. Baldy, Indiana Dunes National Lakeshore - Geoprocessing Workflow - 0X Geochronology\n",
    "## [Kevin Russell, GISP](https://igws.indiana.edu/staff.cfm?user=kevrusse)"
   ]
  },
  {
   "cell_type": "code",
   "execution_count": null,
   "metadata": {},
   "outputs": [],
   "source": [
    "import rasterio\n",
    "from rasterio.plot import show\n",
    "from pathlib import Path\n",
    "from matplotlib import pyplot\n",
    "import tkinter as tk #python3 import\n",
    "from tkinter.filedialog import askdirectory"
   ]
  },
  {
   "cell_type": "code",
   "execution_count": null,
   "metadata": {},
   "outputs": [],
   "source": [
    "def set_source_data():\n",
    "    tk.Tk().withdraw() # we don't want a full GUI, so keep the root window from appearing\n",
    "    source_folder = Path(askdirectory(title=\"Please select the folder containing your GEOTIFFS.\"))\n",
    "    try:\n",
    "        global images \n",
    "        images = [image for image in source_folder.iterdir() if image.suffix == '.tif']\n",
    "        for image in images[:4]:\n",
    "            with rasterio.open(image) as raster:\n",
    "                print(raster.name)\n",
    "                print(raster.nodata)\n",
    "                print(raster.crs)\n",
    "                print(raster.driver)\n",
    "                print(raster.height, raster.width)\n",
    "                print(raster.bounds)\n",
    "                print(raster.transform)\n",
    "                print(' ')\n",
    "    except Exception as e:\n",
    "        print(e)"
   ]
  },
  {
   "cell_type": "code",
   "execution_count": null,
   "metadata": {},
   "outputs": [],
   "source": [
    "set_source_data()"
   ]
  },
  {
   "cell_type": "code",
   "execution_count": null,
   "metadata": {},
   "outputs": [],
   "source": [
    "def display_rasters(images):\n",
    "    axi = ['ax' + str(i + 1) for i in range(len(images))]\n",
    "    fig, (axi) = pyplot.subplots(1,len(images), squeeze=True, figsize=(24,14))\n",
    "    i = 0\n",
    "    for image in images:\n",
    "        with rasterio.open(image) as raster:\n",
    "            show(raster, ax=axi[i], title='Mt Baldy - ' + image.name[4:8])\n",
    "        i += 1"
   ]
  },
  {
   "cell_type": "code",
   "execution_count": null,
   "metadata": {},
   "outputs": [],
   "source": [
    "display_rasters(images)"
   ]
  },
  {
   "cell_type": "code",
   "execution_count": null,
   "metadata": {},
   "outputs": [],
   "source": [
    "def display_contours(images):\n",
    "    axi = ['ax' + str(i + 1) for i in range(len(images))]\n",
    "    fig, (axi) = pyplot.subplots(1,len(images), squeeze=True,  figsize=(66,14))\n",
    "    i = 0\n",
    "    for image in images:\n",
    "        with rasterio.open(image) as raster:\n",
    "            show(raster, ax=axi[i], title='Mt Baldy - ' + image.name[4:8], contour=True, transform=raster.transform)\n",
    "        i += 1"
   ]
  },
  {
   "cell_type": "code",
   "execution_count": null,
   "metadata": {},
   "outputs": [],
   "source": [
    "display_contours(images)"
   ]
  },
  {
   "cell_type": "code",
   "execution_count": null,
   "metadata": {},
   "outputs": [],
   "source": []
  }
 ],
 "metadata": {
  "kernelspec": {
   "display_name": "Python 3",
   "language": "python",
   "name": "python3"
  },
  "language_info": {
   "codemirror_mode": {
    "name": "ipython",
    "version": 3
   },
   "file_extension": ".py",
   "mimetype": "text/x-python",
   "name": "python",
   "nbconvert_exporter": "python",
   "pygments_lexer": "ipython3",
   "version": "3.6.5"
  }
 },
 "nbformat": 4,
 "nbformat_minor": 2
}
